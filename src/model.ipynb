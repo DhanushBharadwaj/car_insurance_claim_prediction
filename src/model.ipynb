{
 "cells": [
  {
   "cell_type": "code",
   "execution_count": 47,
   "metadata": {},
   "outputs": [],
   "source": [
    "import pandas as pd\n",
    "import seaborn as sns\n",
    "import matplotlib.pyplot as plt\n",
    "import numpy as np\n",
    "import imblearn\n",
    "from sklearn.preprocessing import LabelEncoder,MinMaxScaler\n",
    "from sklearn.compose import ColumnTransformer\n",
    "from sklearn.pipeline import Pipeline\n",
    "from sklearn.impute import SimpleImputer\n",
    "from sklearn.linear_model import LogisticRegression\n",
    "from xgboost import XGBClassifier\n",
    "%matplotlib inline"
   ]
  },
  {
   "cell_type": "code",
   "execution_count": 48,
   "metadata": {},
   "outputs": [],
   "source": [
    "data=pd.read_csv(\"D:/my_work/python_codes/git_projects/car_insurance_claim_prediction/dataset/train.csv\")\n",
    "data=data.drop(\"policy_id\",axis=1)"
   ]
  },
  {
   "cell_type": "code",
   "execution_count": 49,
   "metadata": {},
   "outputs": [],
   "source": [
    "from sklearn.model_selection import train_test_split\n",
    "train_set,val_set=train_test_split(data,test_size=0.2,stratify=data[\"is_claim\"])"
   ]
  },
  {
   "cell_type": "code",
   "execution_count": 50,
   "metadata": {},
   "outputs": [],
   "source": [
    "x_train=train_set.drop(\"is_claim\",axis=1)\n",
    "y_train=train_set[\"is_claim\"]\n",
    "\n",
    "x_val=val_set.drop(\"is_claim\",axis=1)\n",
    "y_val=val_set[\"is_claim\"]"
   ]
  },
  {
   "attachments": {},
   "cell_type": "markdown",
   "metadata": {},
   "source": [
    "Try dropping the first 3 colums a it is already normalised"
   ]
  },
  {
   "cell_type": "code",
   "execution_count": 51,
   "metadata": {},
   "outputs": [],
   "source": [
    "x_num=x_train.select_dtypes(include=\"number\").columns\n",
    "x_train_num=x_train[x_num]\n",
    "x_val_num=x_val[x_num]\n",
    "\n",
    "scaler=MinMaxScaler()\n",
    "x_train_num=pd.DataFrame(scaler.fit_transform(x_train_num),columns=x_train_num.columns)\n",
    "x_val_num=pd.DataFrame(scaler.transform(x_val_num),columns=x_val_num.columns)"
   ]
  },
  {
   "cell_type": "code",
   "execution_count": 52,
   "metadata": {},
   "outputs": [],
   "source": [
    "x_cat=x_train.select_dtypes(include=\"object\").columns\n",
    "x_train_cat=pd.DataFrame()\n",
    "x_val_cat=pd.DataFrame()\n",
    "enc=LabelEncoder()\n",
    "for i in x_cat:\n",
    "    x_train_cat[i]=pd.DataFrame(enc.fit_transform(x_train[i]))\n",
    "    x_val_cat[i]=pd.DataFrame(enc.transform(x_val[i]))"
   ]
  },
  {
   "cell_type": "code",
   "execution_count": 53,
   "metadata": {},
   "outputs": [],
   "source": [
    "x_train=pd.concat([x_train_num,x_train_cat],axis=1)\n",
    "x_val=pd.concat([x_val_num,x_val_cat],axis=1)"
   ]
  },
  {
   "cell_type": "code",
   "execution_count": 54,
   "metadata": {},
   "outputs": [],
   "source": [
    "import imblearn\n",
    "im=imblearn.over_sampling.SMOTE(random_state=42)\n",
    "x_train,y_train = im.fit_resample(x_train,y_train)"
   ]
  },
  {
   "cell_type": "code",
   "execution_count": 58,
   "metadata": {},
   "outputs": [
    {
     "name": "stdout",
     "output_type": "stream",
     "text": [
      "[0.82535613 0.99094017 0.99071225 0.99071225 0.99162393]\n"
     ]
    }
   ],
   "source": [
    "from sklearn.model_selection import StratifiedKFold,cross_val_score\n",
    "from sklearn.metrics import f1_score\n",
    "clf = XGBClassifier()\n",
    "\n",
    "k_folds = StratifiedKFold(n_splits = 5)\n",
    "\n",
    "scores = cross_val_score(clf, x_train, y_train, cv = k_folds)\n",
    "print(scores)\n"
   ]
  },
  {
   "cell_type": "code",
   "execution_count": 62,
   "metadata": {},
   "outputs": [
    {
     "name": "stdout",
     "output_type": "stream",
     "text": [
      "0.012594458438287154\n"
     ]
    }
   ],
   "source": [
    "clf.fit(x_train,y_train)\n",
    "pred=clf.predict(x_val)\n",
    "print(f1_score(y_val,pred))"
   ]
  },
  {
   "cell_type": "code",
   "execution_count": 63,
   "metadata": {},
   "outputs": [
    {
     "name": "stdout",
     "output_type": "stream",
     "text": [
      "[0.86592593 0.92262108 0.91931624 0.91794872 0.9208547 ]\n",
      "0.11646136618141097\n"
     ]
    }
   ],
   "source": [
    "from sklearn.model_selection import StratifiedKFold,cross_val_score\n",
    "from sklearn.metrics import f1_score\n",
    "from sklearn.ensemble import RandomForestClassifier\n",
    "clf = RandomForestClassifier()\n",
    "\n",
    "k_folds = StratifiedKFold(n_splits = 5)\n",
    "\n",
    "scores = cross_val_score(clf, x_train, y_train, cv = k_folds)\n",
    "print(scores)\n",
    "\n",
    "clf.fit(x_train,y_train)\n",
    "pred=clf.predict(x_val)\n",
    "print(f1_score(y_val,pred))\n"
   ]
  },
  {
   "cell_type": "code",
   "execution_count": 55,
   "metadata": {},
   "outputs": [],
   "source": [
    "# num_type=list(x_train.select_dtypes(include=\"number\").columns)\n",
    "# cat_type=list(x_val.select_dtypes(include=\"object\").columns)\n",
    "\n",
    "# numeric_transformer = Pipeline(steps=[\n",
    "#     ('imputer', SimpleImputer(strategy='median')),\n",
    "#     ('scaler', MinMaxScaler())])\n",
    "\n",
    "# categorical_transformer = Pipeline(steps=[\n",
    "#     ('imputer', SimpleImputer(strategy='constant', fill_value='missing')),\n",
    "#     ('onehot', LabelEncoder())])\n",
    "\n",
    "# preprocessor = ColumnTransformer(\n",
    "#     transformers=[\n",
    "#         ('num', numeric_transformer, num_type),\n",
    "#         ('cat', categorical_transformer, cat_type)]).fit(x_train)\n",
    "\n",
    "# X_train_pipe = preprocessor.transform(x_train)\n",
    "# X_test_pipe = preprocessor.transform(x_val)\n",
    "\n"
   ]
  },
  {
   "cell_type": "code",
   "execution_count": 56,
   "metadata": {},
   "outputs": [],
   "source": [
    "# log_reg = Pipeline(steps=[('preprocessor', preprocessor),\n",
    "#                       ('classifier', LogisticRegression(solver='lbfgs'))])\n",
    "\n",
    "# clf = Pipeline(steps=[('preprocessor', preprocessor),\n",
    "#                       ('classifier', XGBClassifier())])"
   ]
  }
 ],
 "metadata": {
  "kernelspec": {
   "display_name": "mlenv",
   "language": "python",
   "name": "python3"
  },
  "language_info": {
   "codemirror_mode": {
    "name": "ipython",
    "version": 3
   },
   "file_extension": ".py",
   "mimetype": "text/x-python",
   "name": "python",
   "nbconvert_exporter": "python",
   "pygments_lexer": "ipython3",
   "version": "3.10.8 | packaged by conda-forge | (main, Nov 24 2022, 14:07:00) [MSC v.1916 64 bit (AMD64)]"
  },
  "orig_nbformat": 4,
  "vscode": {
   "interpreter": {
    "hash": "66053dae47dbd059ec9635f404fcd48802ca76de831bfab6d1194af0df80fd5f"
   }
  }
 },
 "nbformat": 4,
 "nbformat_minor": 2
}
