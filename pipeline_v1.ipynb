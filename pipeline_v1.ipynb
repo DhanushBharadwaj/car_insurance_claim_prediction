{
 "cells": [
  {
   "cell_type": "code",
   "execution_count": 3,
   "metadata": {},
   "outputs": [],
   "source": [
    "import pandas as pd"
   ]
  },
  {
   "cell_type": "code",
   "execution_count": 4,
   "metadata": {},
   "outputs": [],
   "source": [
    "train=pd.read_csv(\"D:/my_work/python_codes/git_projects/car_insurance_claim_prediction/dataset/train.csv\")\n",
    "test_x=pd.read_csv(\"D:/my_work/python_codes/git_projects/car_insurance_claim_prediction/dataset/test.csv\")\n",
    "test_y=pd.read_csv(\"D:/my_work/python_codes/git_projects/car_insurance_claim_prediction/dataset/sample_submission.csv\")\n",
    "test=pd.concat([test_x,test_y.iloc[:,-1]],axis=1)\n",
    "data=pd.concat([train,test],ignore_index=True)"
   ]
  },
  {
   "cell_type": "code",
   "execution_count": 5,
   "metadata": {},
   "outputs": [
    {
     "data": {
      "text/plain": [
       "0    0.56161\n",
       "1    0.43839\n",
       "Name: is_claim, dtype: float64"
      ]
     },
     "execution_count": 5,
     "metadata": {},
     "output_type": "execute_result"
    }
   ],
   "source": [
    "data[\"is_claim\"].value_counts(normalize=True)"
   ]
  },
  {
   "attachments": {},
   "cell_type": "markdown",
   "metadata": {},
   "source": [
    "Little skew, but ok. Manageable"
   ]
  },
  {
   "cell_type": "code",
   "execution_count": 6,
   "metadata": {},
   "outputs": [
    {
     "data": {
      "text/plain": [
       "policy_id                           0\n",
       "policy_tenure                       0\n",
       "age_of_car                          0\n",
       "age_of_policyholder                 0\n",
       "area_cluster                        0\n",
       "population_density                  0\n",
       "make                                0\n",
       "segment                             0\n",
       "model                               0\n",
       "fuel_type                           0\n",
       "max_torque                          0\n",
       "max_power                           0\n",
       "engine_type                         0\n",
       "airbags                             0\n",
       "is_esc                              0\n",
       "is_adjustable_steering              0\n",
       "is_tpms                             0\n",
       "is_parking_sensors                  0\n",
       "is_parking_camera                   0\n",
       "rear_brakes_type                    0\n",
       "displacement                        0\n",
       "cylinder                            0\n",
       "transmission_type                   0\n",
       "gear_box                            0\n",
       "steering_type                       0\n",
       "turning_radius                      0\n",
       "length                              0\n",
       "width                               0\n",
       "height                              0\n",
       "gross_weight                        0\n",
       "is_front_fog_lights                 0\n",
       "is_rear_window_wiper                0\n",
       "is_rear_window_washer               0\n",
       "is_rear_window_defogger             0\n",
       "is_brake_assist                     0\n",
       "is_power_door_locks                 0\n",
       "is_central_locking                  0\n",
       "is_power_steering                   0\n",
       "is_driver_seat_height_adjustable    0\n",
       "is_day_night_rear_view_mirror       0\n",
       "is_ecw                              0\n",
       "is_speed_alert                      0\n",
       "ncap_rating                         0\n",
       "is_claim                            0\n",
       "dtype: int64"
      ]
     },
     "execution_count": 6,
     "metadata": {},
     "output_type": "execute_result"
    }
   ],
   "source": [
    "data.isnull().sum()"
   ]
  },
  {
   "attachments": {},
   "cell_type": "markdown",
   "metadata": {},
   "source": [
    "no null values. But have to manage future null values"
   ]
  },
  {
   "cell_type": "code",
   "execution_count": 7,
   "metadata": {},
   "outputs": [],
   "source": [
    "data_x=data.drop([\"policy_id\",\"is_claim\"],axis=1)\n",
    "data_y=data[\"is_claim\"]"
   ]
  },
  {
   "cell_type": "code",
   "execution_count": 8,
   "metadata": {},
   "outputs": [],
   "source": [
    "from sklearn.model_selection import train_test_split\n",
    "x_train,x_test,y_train,y_test=train_test_split(data_x,data_y,test_size=0.2,random_state=42)"
   ]
  },
  {
   "cell_type": "code",
   "execution_count": 12,
   "metadata": {},
   "outputs": [],
   "source": [
    "from sklearn.compose import ColumnTransformer\n",
    "from sklearn.preprocessing import MinMaxScaler,OrdinalEncoder\n",
    "num_type=x_train.select_dtypes(include=\"number\").columns\n",
    "cat_type=x_train.select_dtypes(include=\"object\").columns\n",
    "\n",
    "pre_processor=ColumnTransformer(transformers=[\n",
    "        (\"numeric\",MinMaxScaler(),num_type),\n",
    "        (\"categorical\",OrdinalEncoder(),cat_type)\n",
    "])"
   ]
  },
  {
   "cell_type": "code",
   "execution_count": 15,
   "metadata": {},
   "outputs": [],
   "source": [
    "from sklearn.tree import DecisionTreeClassifier\n",
    "from sklearn.pipeline import Pipeline\n",
    "\n",
    "pipeline=Pipeline(steps=[\n",
    "    (\"preprocessor\",pre_processor),\n",
    "    (\"model\",DecisionTreeClassifier())\n",
    "])"
   ]
  },
  {
   "cell_type": "code",
   "execution_count": 16,
   "metadata": {},
   "outputs": [
    {
     "data": {
      "text/html": [
       "<style>#sk-container-id-2 {color: black;background-color: white;}#sk-container-id-2 pre{padding: 0;}#sk-container-id-2 div.sk-toggleable {background-color: white;}#sk-container-id-2 label.sk-toggleable__label {cursor: pointer;display: block;width: 100%;margin-bottom: 0;padding: 0.3em;box-sizing: border-box;text-align: center;}#sk-container-id-2 label.sk-toggleable__label-arrow:before {content: \"▸\";float: left;margin-right: 0.25em;color: #696969;}#sk-container-id-2 label.sk-toggleable__label-arrow:hover:before {color: black;}#sk-container-id-2 div.sk-estimator:hover label.sk-toggleable__label-arrow:before {color: black;}#sk-container-id-2 div.sk-toggleable__content {max-height: 0;max-width: 0;overflow: hidden;text-align: left;background-color: #f0f8ff;}#sk-container-id-2 div.sk-toggleable__content pre {margin: 0.2em;color: black;border-radius: 0.25em;background-color: #f0f8ff;}#sk-container-id-2 input.sk-toggleable__control:checked~div.sk-toggleable__content {max-height: 200px;max-width: 100%;overflow: auto;}#sk-container-id-2 input.sk-toggleable__control:checked~label.sk-toggleable__label-arrow:before {content: \"▾\";}#sk-container-id-2 div.sk-estimator input.sk-toggleable__control:checked~label.sk-toggleable__label {background-color: #d4ebff;}#sk-container-id-2 div.sk-label input.sk-toggleable__control:checked~label.sk-toggleable__label {background-color: #d4ebff;}#sk-container-id-2 input.sk-hidden--visually {border: 0;clip: rect(1px 1px 1px 1px);clip: rect(1px, 1px, 1px, 1px);height: 1px;margin: -1px;overflow: hidden;padding: 0;position: absolute;width: 1px;}#sk-container-id-2 div.sk-estimator {font-family: monospace;background-color: #f0f8ff;border: 1px dotted black;border-radius: 0.25em;box-sizing: border-box;margin-bottom: 0.5em;}#sk-container-id-2 div.sk-estimator:hover {background-color: #d4ebff;}#sk-container-id-2 div.sk-parallel-item::after {content: \"\";width: 100%;border-bottom: 1px solid gray;flex-grow: 1;}#sk-container-id-2 div.sk-label:hover label.sk-toggleable__label {background-color: #d4ebff;}#sk-container-id-2 div.sk-serial::before {content: \"\";position: absolute;border-left: 1px solid gray;box-sizing: border-box;top: 0;bottom: 0;left: 50%;z-index: 0;}#sk-container-id-2 div.sk-serial {display: flex;flex-direction: column;align-items: center;background-color: white;padding-right: 0.2em;padding-left: 0.2em;position: relative;}#sk-container-id-2 div.sk-item {position: relative;z-index: 1;}#sk-container-id-2 div.sk-parallel {display: flex;align-items: stretch;justify-content: center;background-color: white;position: relative;}#sk-container-id-2 div.sk-item::before, #sk-container-id-2 div.sk-parallel-item::before {content: \"\";position: absolute;border-left: 1px solid gray;box-sizing: border-box;top: 0;bottom: 0;left: 50%;z-index: -1;}#sk-container-id-2 div.sk-parallel-item {display: flex;flex-direction: column;z-index: 1;position: relative;background-color: white;}#sk-container-id-2 div.sk-parallel-item:first-child::after {align-self: flex-end;width: 50%;}#sk-container-id-2 div.sk-parallel-item:last-child::after {align-self: flex-start;width: 50%;}#sk-container-id-2 div.sk-parallel-item:only-child::after {width: 0;}#sk-container-id-2 div.sk-dashed-wrapped {border: 1px dashed gray;margin: 0 0.4em 0.5em 0.4em;box-sizing: border-box;padding-bottom: 0.4em;background-color: white;}#sk-container-id-2 div.sk-label label {font-family: monospace;font-weight: bold;display: inline-block;line-height: 1.2em;}#sk-container-id-2 div.sk-label-container {text-align: center;}#sk-container-id-2 div.sk-container {/* jupyter's `normalize.less` sets `[hidden] { display: none; }` but bootstrap.min.css set `[hidden] { display: none !important; }` so we also need the `!important` here to be able to override the default hidden behavior on the sphinx rendered scikit-learn.org. See: https://github.com/scikit-learn/scikit-learn/issues/21755 */display: inline-block !important;position: relative;}#sk-container-id-2 div.sk-text-repr-fallback {display: none;}</style><div id=\"sk-container-id-2\" class=\"sk-top-container\"><div class=\"sk-text-repr-fallback\"><pre>Pipeline(steps=[(&#x27;preprocessor&#x27;,\n",
       "                 ColumnTransformer(transformers=[(&#x27;numeric&#x27;, MinMaxScaler(),\n",
       "                                                  Index([&#x27;policy_tenure&#x27;, &#x27;age_of_car&#x27;, &#x27;age_of_policyholder&#x27;,\n",
       "       &#x27;population_density&#x27;, &#x27;make&#x27;, &#x27;airbags&#x27;, &#x27;displacement&#x27;, &#x27;cylinder&#x27;,\n",
       "       &#x27;gear_box&#x27;, &#x27;turning_radius&#x27;, &#x27;length&#x27;, &#x27;width&#x27;, &#x27;height&#x27;,\n",
       "       &#x27;gross_weight&#x27;, &#x27;ncap_rating&#x27;],\n",
       "      dtype=&#x27;object&#x27;)),\n",
       "                                                 (&#x27;categorical&#x27;,\n",
       "                                                  OrdinalEncoder(),\n",
       "                                                  Index...\n",
       "       &#x27;rear_brakes_type&#x27;, &#x27;transmission_type&#x27;, &#x27;steering_type&#x27;,\n",
       "       &#x27;is_front_fog_lights&#x27;, &#x27;is_rear_window_wiper&#x27;, &#x27;is_rear_window_washer&#x27;,\n",
       "       &#x27;is_rear_window_defogger&#x27;, &#x27;is_brake_assist&#x27;, &#x27;is_power_door_locks&#x27;,\n",
       "       &#x27;is_central_locking&#x27;, &#x27;is_power_steering&#x27;,\n",
       "       &#x27;is_driver_seat_height_adjustable&#x27;, &#x27;is_day_night_rear_view_mirror&#x27;,\n",
       "       &#x27;is_ecw&#x27;, &#x27;is_speed_alert&#x27;],\n",
       "      dtype=&#x27;object&#x27;))])),\n",
       "                (&#x27;model&#x27;, DecisionTreeClassifier())])</pre><b>In a Jupyter environment, please rerun this cell to show the HTML representation or trust the notebook. <br />On GitHub, the HTML representation is unable to render, please try loading this page with nbviewer.org.</b></div><div class=\"sk-container\" hidden><div class=\"sk-item sk-dashed-wrapped\"><div class=\"sk-label-container\"><div class=\"sk-label sk-toggleable\"><input class=\"sk-toggleable__control sk-hidden--visually\" id=\"sk-estimator-id-8\" type=\"checkbox\" ><label for=\"sk-estimator-id-8\" class=\"sk-toggleable__label sk-toggleable__label-arrow\">Pipeline</label><div class=\"sk-toggleable__content\"><pre>Pipeline(steps=[(&#x27;preprocessor&#x27;,\n",
       "                 ColumnTransformer(transformers=[(&#x27;numeric&#x27;, MinMaxScaler(),\n",
       "                                                  Index([&#x27;policy_tenure&#x27;, &#x27;age_of_car&#x27;, &#x27;age_of_policyholder&#x27;,\n",
       "       &#x27;population_density&#x27;, &#x27;make&#x27;, &#x27;airbags&#x27;, &#x27;displacement&#x27;, &#x27;cylinder&#x27;,\n",
       "       &#x27;gear_box&#x27;, &#x27;turning_radius&#x27;, &#x27;length&#x27;, &#x27;width&#x27;, &#x27;height&#x27;,\n",
       "       &#x27;gross_weight&#x27;, &#x27;ncap_rating&#x27;],\n",
       "      dtype=&#x27;object&#x27;)),\n",
       "                                                 (&#x27;categorical&#x27;,\n",
       "                                                  OrdinalEncoder(),\n",
       "                                                  Index...\n",
       "       &#x27;rear_brakes_type&#x27;, &#x27;transmission_type&#x27;, &#x27;steering_type&#x27;,\n",
       "       &#x27;is_front_fog_lights&#x27;, &#x27;is_rear_window_wiper&#x27;, &#x27;is_rear_window_washer&#x27;,\n",
       "       &#x27;is_rear_window_defogger&#x27;, &#x27;is_brake_assist&#x27;, &#x27;is_power_door_locks&#x27;,\n",
       "       &#x27;is_central_locking&#x27;, &#x27;is_power_steering&#x27;,\n",
       "       &#x27;is_driver_seat_height_adjustable&#x27;, &#x27;is_day_night_rear_view_mirror&#x27;,\n",
       "       &#x27;is_ecw&#x27;, &#x27;is_speed_alert&#x27;],\n",
       "      dtype=&#x27;object&#x27;))])),\n",
       "                (&#x27;model&#x27;, DecisionTreeClassifier())])</pre></div></div></div><div class=\"sk-serial\"><div class=\"sk-item sk-dashed-wrapped\"><div class=\"sk-label-container\"><div class=\"sk-label sk-toggleable\"><input class=\"sk-toggleable__control sk-hidden--visually\" id=\"sk-estimator-id-9\" type=\"checkbox\" ><label for=\"sk-estimator-id-9\" class=\"sk-toggleable__label sk-toggleable__label-arrow\">preprocessor: ColumnTransformer</label><div class=\"sk-toggleable__content\"><pre>ColumnTransformer(transformers=[(&#x27;numeric&#x27;, MinMaxScaler(),\n",
       "                                 Index([&#x27;policy_tenure&#x27;, &#x27;age_of_car&#x27;, &#x27;age_of_policyholder&#x27;,\n",
       "       &#x27;population_density&#x27;, &#x27;make&#x27;, &#x27;airbags&#x27;, &#x27;displacement&#x27;, &#x27;cylinder&#x27;,\n",
       "       &#x27;gear_box&#x27;, &#x27;turning_radius&#x27;, &#x27;length&#x27;, &#x27;width&#x27;, &#x27;height&#x27;,\n",
       "       &#x27;gross_weight&#x27;, &#x27;ncap_rating&#x27;],\n",
       "      dtype=&#x27;object&#x27;)),\n",
       "                                (&#x27;categorical&#x27;, OrdinalEncoder(),\n",
       "                                 Index([&#x27;area_cluster&#x27;, &#x27;segment&#x27;, &#x27;mode...\n",
       "       &#x27;is_tpms&#x27;, &#x27;is_parking_sensors&#x27;, &#x27;is_parking_camera&#x27;,\n",
       "       &#x27;rear_brakes_type&#x27;, &#x27;transmission_type&#x27;, &#x27;steering_type&#x27;,\n",
       "       &#x27;is_front_fog_lights&#x27;, &#x27;is_rear_window_wiper&#x27;, &#x27;is_rear_window_washer&#x27;,\n",
       "       &#x27;is_rear_window_defogger&#x27;, &#x27;is_brake_assist&#x27;, &#x27;is_power_door_locks&#x27;,\n",
       "       &#x27;is_central_locking&#x27;, &#x27;is_power_steering&#x27;,\n",
       "       &#x27;is_driver_seat_height_adjustable&#x27;, &#x27;is_day_night_rear_view_mirror&#x27;,\n",
       "       &#x27;is_ecw&#x27;, &#x27;is_speed_alert&#x27;],\n",
       "      dtype=&#x27;object&#x27;))])</pre></div></div></div><div class=\"sk-parallel\"><div class=\"sk-parallel-item\"><div class=\"sk-item\"><div class=\"sk-label-container\"><div class=\"sk-label sk-toggleable\"><input class=\"sk-toggleable__control sk-hidden--visually\" id=\"sk-estimator-id-10\" type=\"checkbox\" ><label for=\"sk-estimator-id-10\" class=\"sk-toggleable__label sk-toggleable__label-arrow\">numeric</label><div class=\"sk-toggleable__content\"><pre>Index([&#x27;policy_tenure&#x27;, &#x27;age_of_car&#x27;, &#x27;age_of_policyholder&#x27;,\n",
       "       &#x27;population_density&#x27;, &#x27;make&#x27;, &#x27;airbags&#x27;, &#x27;displacement&#x27;, &#x27;cylinder&#x27;,\n",
       "       &#x27;gear_box&#x27;, &#x27;turning_radius&#x27;, &#x27;length&#x27;, &#x27;width&#x27;, &#x27;height&#x27;,\n",
       "       &#x27;gross_weight&#x27;, &#x27;ncap_rating&#x27;],\n",
       "      dtype=&#x27;object&#x27;)</pre></div></div></div><div class=\"sk-serial\"><div class=\"sk-item\"><div class=\"sk-estimator sk-toggleable\"><input class=\"sk-toggleable__control sk-hidden--visually\" id=\"sk-estimator-id-11\" type=\"checkbox\" ><label for=\"sk-estimator-id-11\" class=\"sk-toggleable__label sk-toggleable__label-arrow\">MinMaxScaler</label><div class=\"sk-toggleable__content\"><pre>MinMaxScaler()</pre></div></div></div></div></div></div><div class=\"sk-parallel-item\"><div class=\"sk-item\"><div class=\"sk-label-container\"><div class=\"sk-label sk-toggleable\"><input class=\"sk-toggleable__control sk-hidden--visually\" id=\"sk-estimator-id-12\" type=\"checkbox\" ><label for=\"sk-estimator-id-12\" class=\"sk-toggleable__label sk-toggleable__label-arrow\">categorical</label><div class=\"sk-toggleable__content\"><pre>Index([&#x27;area_cluster&#x27;, &#x27;segment&#x27;, &#x27;model&#x27;, &#x27;fuel_type&#x27;, &#x27;max_torque&#x27;,\n",
       "       &#x27;max_power&#x27;, &#x27;engine_type&#x27;, &#x27;is_esc&#x27;, &#x27;is_adjustable_steering&#x27;,\n",
       "       &#x27;is_tpms&#x27;, &#x27;is_parking_sensors&#x27;, &#x27;is_parking_camera&#x27;,\n",
       "       &#x27;rear_brakes_type&#x27;, &#x27;transmission_type&#x27;, &#x27;steering_type&#x27;,\n",
       "       &#x27;is_front_fog_lights&#x27;, &#x27;is_rear_window_wiper&#x27;, &#x27;is_rear_window_washer&#x27;,\n",
       "       &#x27;is_rear_window_defogger&#x27;, &#x27;is_brake_assist&#x27;, &#x27;is_power_door_locks&#x27;,\n",
       "       &#x27;is_central_locking&#x27;, &#x27;is_power_steering&#x27;,\n",
       "       &#x27;is_driver_seat_height_adjustable&#x27;, &#x27;is_day_night_rear_view_mirror&#x27;,\n",
       "       &#x27;is_ecw&#x27;, &#x27;is_speed_alert&#x27;],\n",
       "      dtype=&#x27;object&#x27;)</pre></div></div></div><div class=\"sk-serial\"><div class=\"sk-item\"><div class=\"sk-estimator sk-toggleable\"><input class=\"sk-toggleable__control sk-hidden--visually\" id=\"sk-estimator-id-13\" type=\"checkbox\" ><label for=\"sk-estimator-id-13\" class=\"sk-toggleable__label sk-toggleable__label-arrow\">OrdinalEncoder</label><div class=\"sk-toggleable__content\"><pre>OrdinalEncoder()</pre></div></div></div></div></div></div></div></div><div class=\"sk-item\"><div class=\"sk-estimator sk-toggleable\"><input class=\"sk-toggleable__control sk-hidden--visually\" id=\"sk-estimator-id-14\" type=\"checkbox\" ><label for=\"sk-estimator-id-14\" class=\"sk-toggleable__label sk-toggleable__label-arrow\">DecisionTreeClassifier</label><div class=\"sk-toggleable__content\"><pre>DecisionTreeClassifier()</pre></div></div></div></div></div></div></div>"
      ],
      "text/plain": [
       "Pipeline(steps=[('preprocessor',\n",
       "                 ColumnTransformer(transformers=[('numeric', MinMaxScaler(),\n",
       "                                                  Index(['policy_tenure', 'age_of_car', 'age_of_policyholder',\n",
       "       'population_density', 'make', 'airbags', 'displacement', 'cylinder',\n",
       "       'gear_box', 'turning_radius', 'length', 'width', 'height',\n",
       "       'gross_weight', 'ncap_rating'],\n",
       "      dtype='object')),\n",
       "                                                 ('categorical',\n",
       "                                                  OrdinalEncoder(),\n",
       "                                                  Index...\n",
       "       'rear_brakes_type', 'transmission_type', 'steering_type',\n",
       "       'is_front_fog_lights', 'is_rear_window_wiper', 'is_rear_window_washer',\n",
       "       'is_rear_window_defogger', 'is_brake_assist', 'is_power_door_locks',\n",
       "       'is_central_locking', 'is_power_steering',\n",
       "       'is_driver_seat_height_adjustable', 'is_day_night_rear_view_mirror',\n",
       "       'is_ecw', 'is_speed_alert'],\n",
       "      dtype='object'))])),\n",
       "                ('model', DecisionTreeClassifier())])"
      ]
     },
     "execution_count": 16,
     "metadata": {},
     "output_type": "execute_result"
    }
   ],
   "source": [
    "pipeline.fit(x_train,y_train)"
   ]
  },
  {
   "cell_type": "code",
   "execution_count": 18,
   "metadata": {},
   "outputs": [
    {
     "name": "stdout",
     "output_type": "stream",
     "text": [
      "0.4427436655650258\n",
      "              precision    recall  f1-score   support\n",
      "\n",
      "           0       0.57      0.55      0.56     11020\n",
      "           1       0.44      0.45      0.44      8511\n",
      "\n",
      "    accuracy                           0.51     19531\n",
      "   macro avg       0.50      0.50      0.50     19531\n",
      "weighted avg       0.51      0.51      0.51     19531\n",
      "\n",
      "[[6102 4918]\n",
      " [4693 3818]]\n"
     ]
    }
   ],
   "source": [
    "pred=pipeline.predict(x_test)\n",
    "from sklearn.metrics import classification_report,f1_score,confusion_matrix\n",
    "print(f1_score(y_test,pred))\n",
    "\n",
    "print(classification_report(y_test,pred))\n",
    "\n",
    "print(confusion_matrix(y_test,pred))"
   ]
  },
  {
   "cell_type": "code",
   "execution_count": 19,
   "metadata": {},
   "outputs": [
    {
     "name": "stdout",
     "output_type": "stream",
     "text": [
      "0.4400462962962963\n",
      "              precision    recall  f1-score   support\n",
      "\n",
      "           0       0.56      0.55      0.56     11020\n",
      "           1       0.43      0.45      0.44      8511\n",
      "\n",
      "    accuracy                           0.50     19531\n",
      "   macro avg       0.50      0.50      0.50     19531\n",
      "weighted avg       0.51      0.50      0.51     19531\n",
      "\n",
      "[[6053 4967]\n",
      " [4709 3802]]\n"
     ]
    }
   ],
   "source": [
    "from imblearn.pipeline import Pipeline\n",
    "from imblearn.over_sampling import SMOTE\n",
    "smt=SMOTE(random_state=42)\n",
    "pipeline = Pipeline(steps=[('preprocessor', pre_processor),\n",
    "                            ('smote', smt),\n",
    "                            ('model', DecisionTreeClassifier())\n",
    "                          ])\n",
    "\n",
    "pipeline.fit(x_train,y_train)\n",
    "\n",
    "pred=pipeline.predict(x_test)\n",
    "print(f1_score(y_test,pred))\n",
    "print(classification_report(y_test,pred))\n",
    "print(confusion_matrix(y_test,pred))"
   ]
  },
  {
   "cell_type": "code",
   "execution_count": null,
   "metadata": {},
   "outputs": [],
   "source": []
  }
 ],
 "metadata": {
  "kernelspec": {
   "display_name": "mlenv",
   "language": "python",
   "name": "python3"
  },
  "language_info": {
   "codemirror_mode": {
    "name": "ipython",
    "version": 3
   },
   "file_extension": ".py",
   "mimetype": "text/x-python",
   "name": "python",
   "nbconvert_exporter": "python",
   "pygments_lexer": "ipython3",
   "version": "3.10.8"
  },
  "orig_nbformat": 4,
  "vscode": {
   "interpreter": {
    "hash": "66053dae47dbd059ec9635f404fcd48802ca76de831bfab6d1194af0df80fd5f"
   }
  }
 },
 "nbformat": 4,
 "nbformat_minor": 2
}
